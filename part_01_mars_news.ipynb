{
 "cells": [
  {
   "cell_type": "markdown",
   "id": "a389385b",
   "metadata": {},
   "source": [
    "# Module 12 Challenge\n",
    "\n",
    "----\n",
    "\n",
    "## Deliverable 1: Scrape Titles and Preview Text from Mars News"
   ]
  },
  {
   "cell_type": "code",
   "execution_count": 1,
   "id": "1d58d521",
   "metadata": {},
   "outputs": [],
   "source": [
    "# Import Splinter and BeautifulSoup\n",
    "\n",
    "from splinter import Browser\n",
    "from bs4 import BeautifulSoup as soup"
   ]
  },
  {
   "cell_type": "code",
   "execution_count": 2,
   "id": "58952f07",
   "metadata": {},
   "outputs": [],
   "source": [
    "browser = Browser(\"chrome\")"
   ]
  },
  {
   "cell_type": "markdown",
   "id": "3ee86ec2",
   "metadata": {},
   "source": [
    "### Step 1: Visit the Website\n",
    "\n",
    "1. Use automated browsing to visit the [Mars news site](https://static.bc-edx.com/data/web/mars_news/index.html). Inspect the page to identify which elements to scrape.\n",
    "\n",
    "      > **Hint** To identify which elements to scrape, you might want to inspect the page by using Chrome DevTools."
   ]
  },
  {
   "cell_type": "code",
   "execution_count": 3,
   "id": "c7511b60",
   "metadata": {},
   "outputs": [],
   "source": [
    "# Visit the Mars news site\n",
    "\n",
    "url = \"https://static.bc-edx.com/data/web/mars_news/index.html\"\n",
    "browser.visit(url)"
   ]
  },
  {
   "cell_type": "markdown",
   "id": "73e0e9bb",
   "metadata": {},
   "source": [
    "### Step 2: Scrape the Website\n",
    "\n",
    "Create a Beautiful Soup object and use it to extract text elements from the website"
   ]
  },
  {
   "cell_type": "code",
   "execution_count": 4,
   "id": "42ba1908",
   "metadata": {},
   "outputs": [],
   "source": [
    "# Create a Beautiful Soup object\n",
    "\n",
    "html = browser.html\n",
    "soup = soup(html, \"html.parser\")"
   ]
  },
  {
   "cell_type": "code",
   "execution_count": 5,
   "id": "395d1707",
   "metadata": {},
   "outputs": [],
   "source": [
    "# soup"
   ]
  },
  {
   "cell_type": "code",
   "execution_count": 6,
   "id": "c2120294",
   "metadata": {},
   "outputs": [],
   "source": [
    "# Extract all the text elements\n",
    "\n"
   ]
  },
  {
   "cell_type": "code",
   "execution_count": 51,
   "id": "cf3071b5",
   "metadata": {
    "scrolled": false
   },
   "outputs": [
    {
     "data": {
      "text/plain": [
       "<div class=\"content_title\">NASA's MAVEN Observes Martian Light Show Caused by Major Solar Storm</div>"
      ]
     },
     "execution_count": 51,
     "metadata": {},
     "output_type": "execute_result"
    }
   ],
   "source": [
    "soup.find_all(\"div\", {\"class\":[\"content_title\", \"article_teaser_body\"]})[0]"
   ]
  },
  {
   "cell_type": "code",
   "execution_count": 43,
   "id": "833908a3",
   "metadata": {
    "scrolled": false
   },
   "outputs": [
    {
     "data": {
      "text/plain": [
       "\"NASA's MAVEN Observes Martian Light Show Caused by Major Solar Storm\""
      ]
     },
     "execution_count": 43,
     "metadata": {},
     "output_type": "execute_result"
    }
   ],
   "source": [
    "tp[0].find_all(\"div\", class_ = \"content_title\")[0].text"
   ]
  },
  {
   "cell_type": "code",
   "execution_count": 5,
   "id": "ec2acdd9",
   "metadata": {},
   "outputs": [],
   "source": [
    "exper = soup.find_all(\"div\", class_=\"list_text\")"
   ]
  },
  {
   "cell_type": "code",
   "execution_count": 11,
   "id": "3766d696",
   "metadata": {},
   "outputs": [
    {
     "data": {
      "text/plain": [
       "\"NASA's MAVEN Observes Martian Light Show Caused by Major Solar Storm\""
      ]
     },
     "execution_count": 11,
     "metadata": {},
     "output_type": "execute_result"
    }
   ],
   "source": [
    "exper[0].find_all(\"div\", class_=\"content_title\")[0].text"
   ]
  },
  {
   "cell_type": "code",
   "execution_count": 15,
   "id": "83234077",
   "metadata": {},
   "outputs": [
    {
     "data": {
      "text/plain": [
       "<div class=\"list_text\">\n",
       "<div class=\"list_date\">November 9, 2022</div>\n",
       "<div class=\"content_title\">NASA's MAVEN Observes Martian Light Show Caused by Major Solar Storm</div>\n",
       "<div class=\"article_teaser_body\">For the first time in its eight years orbiting Mars, NASA’s MAVEN mission witnessed two different types of ultraviolet aurorae simultaneously, the result of solar storms that began on Aug. 27.</div>\n",
       "</div>"
      ]
     },
     "execution_count": 15,
     "metadata": {},
     "output_type": "execute_result"
    }
   ],
   "source": [
    "exper[0]"
   ]
  },
  {
   "cell_type": "code",
   "execution_count": 18,
   "id": "87ccdb87",
   "metadata": {},
   "outputs": [
    {
     "data": {
      "text/plain": [
       "'For the first time in its eight years orbiting Mars, NASA’s MAVEN mission witnessed two different types of ultraviolet aurorae simultaneously, the result of solar storms that began on Aug. 27.'"
      ]
     },
     "execution_count": 18,
     "metadata": {},
     "output_type": "execute_result"
    }
   ],
   "source": [
    "exper[0].find_all(\"div\", class_=\"article_teaser_body\")[0].text"
   ]
  },
  {
   "cell_type": "code",
   "execution_count": 58,
   "id": "40f897e9",
   "metadata": {},
   "outputs": [],
   "source": [
    "mars_dict = {}\n",
    "mars_news_list = []\n",
    "\n",
    "# title_dict = {}\n",
    "# preview_dict = {}\n",
    "# key_value_dict = {}\n",
    "title={}\n",
    "\n",
    "for x in exper:\n",
    "    title = x.find(\"div\", class_=\"content_title\").text\n",
    "    preview = x.find(\"div\", class_=\"article_teaser_body\").text\n",
    "    \n",
    "    mars_dict = {\"title\": title,\n",
    "                \"preview\": preview}\n",
    "    \n",
    "    \n",
    "    mars_news_list.append(mars_dict)\n",
    "\n"
   ]
  },
  {
   "cell_type": "code",
   "execution_count": 59,
   "id": "e6ed8301",
   "metadata": {
    "scrolled": false
   },
   "outputs": [
    {
     "data": {
      "text/plain": [
       "[{'title': \"NASA's MAVEN Observes Martian Light Show Caused by Major Solar Storm\",\n",
       "  'preview': 'For the first time in its eight years orbiting Mars, NASA’s MAVEN mission witnessed two different types of ultraviolet aurorae simultaneously, the result of solar storms that began on Aug. 27.'},\n",
       " {'title': \"NASA Prepares to Say 'Farewell' to InSight Spacecraft\",\n",
       "  'preview': 'A closer look at what goes into wrapping up the mission as the spacecraft’s power supply continues to dwindle.'},\n",
       " {'title': 'NASA and ESA Agree on Next Steps to Return Mars Samples to Earth',\n",
       "  'preview': 'The agency’s Perseverance rover will establish the first sample depot on Mars.'},\n",
       " {'title': \"NASA's InSight Lander Detects Stunning Meteoroid Impact on Mars\",\n",
       "  'preview': 'The agency’s lander felt the ground shake during the impact while cameras aboard the Mars Reconnaissance Orbiter spotted the yawning new crater from space.'},\n",
       " {'title': 'NASA To Host Briefing on InSight, Mars Reconnaissance Orbiter Findings',\n",
       "  'preview': 'Scientists from two Mars missions will discuss how they combined images and data for a major finding on the Red Planet.'},\n",
       " {'title': 'Why NASA Is Trying To Crash Land on Mars',\n",
       "  'preview': 'Like a car’s crumple zone, the experimental SHIELD lander is designed to absorb a hard impact.'},\n",
       " {'title': 'Curiosity Mars Rover Reaches Long-Awaited Salty Region',\n",
       "  'preview': 'After years of climbing, the Mars rover has arrived at a special region believed to have formed as Mars’ climate was drying.'},\n",
       " {'title': 'Mars Mission Shields Up for Tests',\n",
       "  'preview': 'Protecting Mars Sample Return spacecraft from micrometeorites requires high-caliber work.'},\n",
       " {'title': \"NASA's InSight Waits Out Dust Storm\",\n",
       "  'preview': 'InSight’s team is taking steps to help the solar-powered lander continue operating for as long as possible.'},\n",
       " {'title': \"NASA's InSight 'Hears' Its First Meteoroid Impacts on Mars\",\n",
       "  'preview': 'The Mars lander’s seismometer has picked up vibrations from four separate impacts in the past two years.'},\n",
       " {'title': \"NASA's Perseverance Rover Investigates Geologically Rich Mars Terrain\",\n",
       "  'preview': 'The latest findings provide greater detail on a region of the Red Planet that has a watery past and is yielding promising samples for the NASA-ESA Mars Sample Return campaign.'},\n",
       " {'title': 'NASA to Host Briefing on Perseverance Mars Rover Mission Operations',\n",
       "  'preview': 'Members of the mission will discuss the rover’s activities as it gathers samples in an ancient river delta.'},\n",
       " {'title': \"NASA's Perseverance Makes New Discoveries in Mars' Jezero Crater\",\n",
       "  'preview': 'The rover found that Jezero Crater’s floor is made up of volcanic rocks that have interacted with water.'},\n",
       " {'title': \"10 Years Since Landing, NASA's Curiosity Mars Rover Still Has Drive\",\n",
       "  'preview': 'Despite signs of wear, the intrepid spacecraft is about to start an exciting new chapter of its mission as it climbs a Martian mountain.'},\n",
       " {'title': \"SAM's Top 5 Discoveries Aboard NASA's Curiosity Rover at Mars\",\n",
       "  'preview': '“Selfie” of the Curiosity rover with inset showing the SAM instrument prior to installation on the rover.'}]"
      ]
     },
     "execution_count": 59,
     "metadata": {},
     "output_type": "execute_result"
    }
   ],
   "source": [
    "# mars_dict\n",
    "mars_news_list"
   ]
  },
  {
   "cell_type": "code",
   "execution_count": null,
   "id": "3645b4af",
   "metadata": {},
   "outputs": [],
   "source": []
  },
  {
   "cell_type": "code",
   "execution_count": null,
   "id": "86c68e7f",
   "metadata": {},
   "outputs": [],
   "source": []
  },
  {
   "cell_type": "code",
   "execution_count": null,
   "id": "f5f3e79d",
   "metadata": {},
   "outputs": [],
   "source": []
  },
  {
   "cell_type": "code",
   "execution_count": null,
   "id": "1505791b",
   "metadata": {},
   "outputs": [],
   "source": []
  },
  {
   "cell_type": "markdown",
   "id": "2f793b04",
   "metadata": {},
   "source": [
    "### Step 3: Store the Results\n",
    "\n",
    "Extract the titles and preview text of the news articles that you scraped. Store the scraping results in Python data structures as follows:\n",
    "\n",
    "* Store each title-and-preview pair in a Python dictionary. And, give each dictionary two keys: `title` and `preview`. An example is the following:\n",
    "\n",
    "  ```python\n",
    "  {'title': \"NASA's MAVEN Observes Martian Light Show Caused by Major Solar Storm\", \n",
    "   'preview': \"For the first time in its eight years orbiting Mars, NASA’s MAVEN mission witnessed two different types of ultraviolet aurorae simultaneously, the result of solar storms that began on Aug. 27.\"\n",
    "  }\n",
    "  ```\n",
    "\n",
    "* Store all the dictionaries in a Python list.\n",
    "\n",
    "* Print the list in your notebook."
   ]
  },
  {
   "cell_type": "code",
   "execution_count": 23,
   "id": "58690088",
   "metadata": {
    "scrolled": false
   },
   "outputs": [],
   "source": [
    "# Create an empty list to store the dictionaries\n",
    "\n",
    "title_preview = []\n",
    "\n",
    "# Loop through the text elements:\n",
    "# Store each title and preview pair in a dictionary\n",
    "# Add the dictionary to the list\n",
    "\n",
    "# for x in titles:\n",
    "#     for y in previews:\n",
    "#         print({\"title\":x.text,\"preview\":y.text})\n",
    "\n",
    "\n",
    "for title in titles:\n",
    "    title.text\n",
    "\n",
    "\n",
    "# title_preview_dict = {\"title\": [x.text for x in titles],\n",
    "#                       \"preview\": [y.text for y in previews]}\n",
    "\n",
    "title_preview.append(title_preview_dict)"
   ]
  },
  {
   "cell_type": "code",
   "execution_count": 25,
   "id": "979c1e1f",
   "metadata": {
    "scrolled": false
   },
   "outputs": [
    {
     "data": {
      "text/plain": [
       "[{'title': [\"NASA's MAVEN Observes Martian Light Show Caused by Major Solar Storm\",\n",
       "   \"NASA Prepares to Say 'Farewell' to InSight Spacecraft\",\n",
       "   'NASA and ESA Agree on Next Steps to Return Mars Samples to Earth',\n",
       "   \"NASA's InSight Lander Detects Stunning Meteoroid Impact on Mars\",\n",
       "   'NASA To Host Briefing on InSight, Mars Reconnaissance Orbiter Findings',\n",
       "   'Why NASA Is Trying To Crash Land on Mars',\n",
       "   'Curiosity Mars Rover Reaches Long-Awaited Salty Region',\n",
       "   'Mars Mission Shields Up for Tests',\n",
       "   \"NASA's InSight Waits Out Dust Storm\",\n",
       "   \"NASA's InSight 'Hears' Its First Meteoroid Impacts on Mars\",\n",
       "   \"NASA's Perseverance Rover Investigates Geologically Rich Mars Terrain\",\n",
       "   'NASA to Host Briefing on Perseverance Mars Rover Mission Operations',\n",
       "   \"NASA's Perseverance Makes New Discoveries in Mars' Jezero Crater\",\n",
       "   \"10 Years Since Landing, NASA's Curiosity Mars Rover Still Has Drive\",\n",
       "   \"SAM's Top 5 Discoveries Aboard NASA's Curiosity Rover at Mars\"],\n",
       "  'preview': ['For the first time in its eight years orbiting Mars, NASA’s MAVEN mission witnessed two different types of ultraviolet aurorae simultaneously, the result of solar storms that began on Aug. 27.',\n",
       "   'A closer look at what goes into wrapping up the mission as the spacecraft’s power supply continues to dwindle.',\n",
       "   'The agency’s Perseverance rover will establish the first sample depot on Mars.',\n",
       "   'The agency’s lander felt the ground shake during the impact while cameras aboard the Mars Reconnaissance Orbiter spotted the yawning new crater from space.',\n",
       "   'Scientists from two Mars missions will discuss how they combined images and data for a major finding on the Red Planet.',\n",
       "   'Like a car’s crumple zone, the experimental SHIELD lander is designed to absorb a hard impact.',\n",
       "   'After years of climbing, the Mars rover has arrived at a special region believed to have formed as Mars’ climate was drying.',\n",
       "   'Protecting Mars Sample Return spacecraft from micrometeorites requires high-caliber work.',\n",
       "   'InSight’s team is taking steps to help the solar-powered lander continue operating for as long as possible.',\n",
       "   'The Mars lander’s seismometer has picked up vibrations from four separate impacts in the past two years.',\n",
       "   'The latest findings provide greater detail on a region of the Red Planet that has a watery past and is yielding promising samples for the NASA-ESA Mars Sample Return campaign.',\n",
       "   'Members of the mission will discuss the rover’s activities as it gathers samples in an ancient river delta.',\n",
       "   'The rover found that Jezero Crater’s floor is made up of volcanic rocks that have interacted with water.',\n",
       "   'Despite signs of wear, the intrepid spacecraft is about to start an exciting new chapter of its mission as it climbs a Martian mountain.',\n",
       "   '“Selfie” of the Curiosity rover with inset showing the SAM instrument prior to installation on the rover.']}]"
      ]
     },
     "execution_count": 25,
     "metadata": {},
     "output_type": "execute_result"
    }
   ],
   "source": [
    "# Print the list to confirm success\n",
    "\n",
    "title_preview"
   ]
  },
  {
   "cell_type": "code",
   "execution_count": null,
   "id": "db158df1",
   "metadata": {},
   "outputs": [],
   "source": [
    "# browser.quit()"
   ]
  },
  {
   "cell_type": "code",
   "execution_count": null,
   "id": "aa30f0ff",
   "metadata": {},
   "outputs": [],
   "source": []
  }
 ],
 "metadata": {
  "kernelspec": {
   "display_name": "Python 3 (ipykernel)",
   "language": "python",
   "name": "python3"
  },
  "language_info": {
   "codemirror_mode": {
    "name": "ipython",
    "version": 3
   },
   "file_extension": ".py",
   "mimetype": "text/x-python",
   "name": "python",
   "nbconvert_exporter": "python",
   "pygments_lexer": "ipython3",
   "version": "3.11.3"
  }
 },
 "nbformat": 4,
 "nbformat_minor": 5
}
